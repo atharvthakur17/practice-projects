{
 "cells": [
  {
   "cell_type": "code",
   "execution_count": 14,
   "id": "52ec84a1",
   "metadata": {},
   "outputs": [
    {
     "data": {
      "text/plain": [
       "((60000, 28, 28), (60000,), (10000, 28, 28), (10000,))"
      ]
     },
     "execution_count": 14,
     "metadata": {},
     "output_type": "execute_result"
    }
   ],
   "source": [
    "import tensorflow as tf \n",
    "\n",
    "from tensorflow.keras.datasets import mnist\n",
    "\n",
    "# Load the MNIST dataset\n",
    "(x_train, y_train), (x_test, y_test) = mnist.load_data()\n",
    "\n",
    "# # Normalize the pixel values to be between 0 and 1\n",
    "# x_train, x_test = x_train / 255.0, x_test / 255.0\n",
    "\n",
    "# Print the shape of the training and testing data\n",
    "x_train.shape,y_train.shape,x_test.shape,y_test.shape\n",
    "\n"
   ]
  },
  {
   "cell_type": "code",
   "execution_count": 15,
   "id": "1bdaa928",
   "metadata": {},
   "outputs": [
    {
     "data": {
      "text/plain": [
       "TensorShape([60000, 10])"
      ]
     },
     "execution_count": 15,
     "metadata": {},
     "output_type": "execute_result"
    }
   ],
   "source": [
    "# from tensorflow.keras.utils import to_categorical\n",
    "# num_classes=10\n",
    "\n",
    "# y_train = to_categorical(y_train, num_classes=10)\n",
    "# y_test = to_categorical(y_test, num_classes=10)\n",
    "\n",
    "\n",
    "num_classes = 10  # Number of classes in the MNIST dataset\n",
    "\n",
    "y_train = tf.one_hot(y_train, depth=num_classes)\n",
    "y_test = tf.one_hot(y_test, depth=num_classes)\n",
    "\n",
    "y_train.shape"
   ]
  },
  {
   "cell_type": "code",
   "execution_count": null,
   "id": "45a5ee14",
   "metadata": {},
   "outputs": [],
   "source": []
  },
  {
   "cell_type": "code",
   "execution_count": 16,
   "id": "96eed997",
   "metadata": {},
   "outputs": [
    {
     "name": "stdout",
     "output_type": "stream",
     "text": [
      "tf.Tensor([0. 0. 0. 0. 0. 0. 1. 0. 0. 0.], shape=(10,), dtype=float32)\n"
     ]
    },
    {
     "data": {
      "image/png": "[encoded data removed]",
      "text/plain": [
       "<Figure size 640x480 with 1 Axes>"
      ]
     },
     "metadata": {},
     "output_type": "display_data"
    }
   ],
   "source": [
    "import numpy as np\n",
    "from matplotlib import pyplot as plt\n",
    "\n",
    "\n",
    "image=x_train[256]\n",
    "plt.imshow(image)\n",
    "\n",
    "\n",
    "print(y_train[256])"
   ]
  },
  {
   "cell_type": "code",
   "execution_count": 17,
   "id": "52a79279",
   "metadata": {},
   "outputs": [
    {
     "data": {
      "text/plain": [
       "tensorflow.python.framework.ops.EagerTensor"
      ]
     },
     "execution_count": 17,
     "metadata": {},
     "output_type": "execute_result"
    }
   ],
   "source": [
    "x_train = x_train.reshape((x_train.shape[0], -1))  # Reshape each image to a flat vector\n",
    "x_test = x_test.reshape((x_test.shape[0], -1))     # Reshape each image to a flat vector\n",
    "\n",
    "# Normalize the pixel values to be between 0 and 1\n",
    "x_train, x_test = x_train / 255.0, x_test / 255.0\n",
    "\n",
    "\n",
    "x_train = tf.cast(x_train, dtype=tf.float32)\n",
    "x_test = tf.cast(x_test, dtype=tf.float32)\n",
    "type(x_train)"
   ]
  },
  {
   "cell_type": "code",
   "execution_count": 18,
   "id": "1db15cc7",
   "metadata": {},
   "outputs": [],
   "source": [
    "n_input=784\n",
    "n_h1=256\n",
    "n_h2=256\n",
    "n_output=10\n",
    "\n",
    "weights={\"h1\":tf.random.normal([n_input,n_h1]),\n",
    "         \"h2\":tf.random.normal([n_h1,n_h2]),\n",
    "         \"out\":tf.random.normal([n_h2,n_output])\n",
    "        }\n",
    "\n",
    "biases={\"h1\":tf.random.normal([n_h1]),\n",
    "         \"h2\":tf.random.normal([n_h2]),\n",
    "         \"out\":tf.random.normal([n_output])\n",
    "        }\n"
   ]
  },
  {
   "cell_type": "code",
   "execution_count": 19,
   "id": "8438a9fb",
   "metadata": {},
   "outputs": [],
   "source": [
    "def forward_prop(x,weights,biases):\n",
    "    in_layer1=tf.add(tf.matmul(x,weights[\"h1\"]),biases[\"h1\"])\n",
    "    out_layer1=tf.nn.relu(in_layer1)                        #relu is activation function like sigmoid\n",
    "    \n",
    "    in_layer2=tf.add(tf.matmul(out_layer1,weights[\"h2\"]),biases[\"h2\"])\n",
    "    out_layer2=tf.nn.relu(in_layer2)\n",
    "    \n",
    "    inp_out_layer=tf.add(tf.matmul(out_layer2,weights[\"out\"]),biases[\"out\"])\n",
    "    \n",
    "    return inp_out_layer\n"
   ]
  },
  {
   "cell_type": "code",
   "execution_count": 20,
   "id": "c19f3221",
   "metadata": {},
   "outputs": [
    {
     "name": "stdout",
     "output_type": "stream",
     "text": [
      "tf.Tensor([7 4 0 ... 7 1 1], shape=(60000,), dtype=int64) tf.Tensor([5 0 4 ... 5 6 8], shape=(60000,), dtype=int64)\n"
     ]
    }
   ],
   "source": [
    "pred=forward_prop(x_train,weights,biases)\n",
    "predictions=tf.argmax(pred,axis=1)         #  argmax  --> to get max form onhot enccoded row $ axis=1 bcz column wise maximum \n",
    "\n",
    "true_pred=tf.argmax(y_train,axis=1)        #   real output of data\n",
    "\n",
    "print(predictions,true_pred)"
   ]
  },
  {
   "cell_type": "code",
   "execution_count": 21,
   "id": "05a3ecf5",
   "metadata": {},
   "outputs": [
    {
     "data": {
      "text/plain": [
       "1255.5741"
      ]
     },
     "execution_count": 21,
     "metadata": {},
     "output_type": "execute_result"
    }
   ],
   "source": [
    "# cost=tf.reduce_mean(tf.nn.softmax_cross_entropy_with_logits(logits=pred,labels=y_train))       # used in tensorflow 1\n",
    "\n",
    "\n",
    "loss_object = tf.keras.losses.CategoricalCrossentropy(from_logits=True)\n",
    "loss = tf.reduce_mean(loss_object(y_train, pred))\n",
    "loss.numpy()"
   ]
  },
  {
   "cell_type": "code",
   "execution_count": 22,
   "id": "b82c9cb9",
   "metadata": {},
   "outputs": [
    {
     "name": "stdout",
     "output_type": "stream",
     "text": [
      "7006\n"
     ]
    }
   ],
   "source": [
    "correct_pred=tf.equal(predictions,true_pred)\n",
    "correct_pred_count = tf.reduce_sum(tf.cast(correct_pred, dtype=tf.float32))        # convert bool trur -> 1 and then sum all \n",
    "\n",
    "# Print or use the count of correct predictions\n",
    "print(int(correct_pred_count))\n"
   ]
  },
  {
   "cell_type": "code",
   "execution_count": 23,
   "id": "b4b1eb59",
   "metadata": {},
   "outputs": [
    {
     "data": {
      "text/plain": [
       "2"
      ]
     },
     "execution_count": 23,
     "metadata": {},
     "output_type": "execute_result"
    }
   ],
   "source": [
    "varlist=[weights.values(),biases.values()]\n",
    "len(varlist)"
   ]
  },
  {
   "cell_type": "code",
   "execution_count": 24,
   "id": "37935b47",
   "metadata": {},
   "outputs": [],
   "source": [
    "# optimizer = tf.keras.optimizers.Adam(learning_rate=0.01)\n",
    "# optimize = optimizer.minimize(loss,varlist)"
   ]
  },
  {
   "cell_type": "code",
   "execution_count": 25,
   "id": "d8bf0d45",
   "metadata": {},
   "outputs": [],
   "source": [
    "import tensorflow as tf\n",
    "from keras.layers import Dense\n",
    "from keras import Sequential\n",
    "\n",
    "model=Sequential()"
   ]
  },
  {
   "cell_type": "code",
   "execution_count": 27,
   "id": "9596ba10",
   "metadata": {},
   "outputs": [
    {
     "name": "stdout",
     "output_type": "stream",
     "text": [
      "Epoch 1/10\n",
      "600/600 [==============================] - 5s 6ms/step - loss: 0.1872 - accuracy: 0.9699\n",
      "Epoch 2/10\n",
      "600/600 [==============================] - 4s 6ms/step - loss: 0.0705 - accuracy: 0.9818\n",
      "Epoch 3/10\n",
      "600/600 [==============================] - 4s 6ms/step - loss: 0.0546 - accuracy: 0.9858\n",
      "Epoch 4/10\n",
      "600/600 [==============================] - 4s 6ms/step - loss: 0.0477 - accuracy: 0.9876\n",
      "Epoch 5/10\n",
      "600/600 [==============================] - 4s 6ms/step - loss: 0.0402 - accuracy: 0.9890\n",
      "Epoch 6/10\n",
      "600/600 [==============================] - 4s 6ms/step - loss: 0.0334 - accuracy: 0.9910\n",
      "Epoch 7/10\n",
      "600/600 [==============================] - 4s 6ms/step - loss: 0.0284 - accuracy: 0.9925\n",
      "Epoch 8/10\n",
      "600/600 [==============================] - 4s 6ms/step - loss: 0.0267 - accuracy: 0.9930\n",
      "Epoch 9/10\n",
      "600/600 [==============================] - 4s 6ms/step - loss: 0.0263 - accuracy: 0.9931\n",
      "Epoch 10/10\n",
      "600/600 [==============================] - 4s 6ms/step - loss: 0.0214 - accuracy: 0.9941\n",
      "313/313 [==============================] - 1s 2ms/step\n",
      "313/313 [==============================] - 1s 2ms/step - loss: 0.0889 - accuracy: 0.9800\n"
     ]
    }
   ],
   "source": [
    "model.add(Dense(256, activation='relu', input_shape=(784,)))\n",
    "model.add(Dense(256, activation='relu'))\n",
    "model.add(Dense(10, activation='softmax'))\n",
    "\n",
    "model.compile(optimizer=\"adam\",loss=\"CategoricalCrossentropy\",metrics=\"accuracy\")# # Get the predictions\n",
    "\n",
    "\n",
    "model.fit(x_train,y_train,epochs=10,batch_size=100)\n",
    "pred=model.predict(x_test)\n",
    "score=model.evaluate(x_test,y_test)\n",
    "\n",
    "\n"
   ]
  },
  {
   "cell_type": "code",
   "execution_count": null,
   "id": "03d244be",
   "metadata": {},
   "outputs": [],
   "source": []
  },
  {
   "cell_type": "code",
   "execution_count": null,
   "id": "8ef8221c",
   "metadata": {},
   "outputs": [],
   "source": []
  }
 ],
 "metadata": {
  "kernelspec": {
   "display_name": "Python 3 (ipykernel)",
   "language": "python",
   "name": "python3"
  },
  "language_info": {
   "codemirror_mode": {
    "name": "ipython",
    "version": 3
   },
   "file_extension": ".py",
   "mimetype": "text/x-python",
   "name": "python",
   "nbconvert_exporter": "python",
   "pygments_lexer": "ipython3",
   "version": "3.10.9"
  }
 },
 "nbformat": 4,
 "nbformat_minor": 5
}
