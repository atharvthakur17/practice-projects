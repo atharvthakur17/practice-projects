{
 "cells": [
  {
   "cell_type": "code",
   "execution_count": 38,
   "id": "753d65db",
   "metadata": {},
   "outputs": [],
   "source": [
    "from keras.models import Sequential "
   ]
  },
  {
   "cell_type": "code",
   "execution_count": 39,
   "id": "e7baeffa",
   "metadata": {},
   "outputs": [],
   "source": [
    "model=Sequential()"
   ]
  },
  {
   "cell_type": "code",
   "execution_count": 40,
   "id": "96502b53",
   "metadata": {},
   "outputs": [],
   "source": [
    "from sklearn.model_selection import train_test_split\n",
    "from sklearn import datasets\n",
    "data=datasets.load_breast_cancer()\n",
    "\n",
    "xtrain,xtest,ytrain,ytest=train_test_split(data.data,data.target,test_size=0.2,random_state=0)\n"
   ]
  },
  {
   "cell_type": "code",
   "execution_count": 41,
   "id": "d9df09f2",
   "metadata": {},
   "outputs": [
    {
     "data": {
      "text/plain": [
       "(455, 30)"
      ]
     },
     "execution_count": 41,
     "metadata": {},
     "output_type": "execute_result"
    }
   ],
   "source": [
    "from sklearn.preprocessing import StandardScaler\n",
    "sc=StandardScaler()\n",
    "xtrain,xtest=sc.fit_transform(xtrain),sc.transform(xtest)\n",
    "xtrain.shape"
   ]
  },
  {
   "cell_type": "code",
   "execution_count": 42,
   "id": "af73323a",
   "metadata": {},
   "outputs": [],
   "source": [
    "from keras.layers import Dense\n",
    "model=Sequential()\n",
    "\n",
    "layer1=Dense(units=32,activation=\"relu\",input_dim=30)\n",
    "model.add(layer1)\n",
    "model.add(Dense(units=16,activation=\"relu\"))\n",
    "model.add(Dense(units=1,activation=\"sigmoid\"))\n",
    "\n",
    "model.compile(optimizer=\"adam\",loss=\"binary_crossentropy\",metrics=\"accuracy\")"
   ]
  },
  {
   "cell_type": "code",
   "execution_count": 43,
   "id": "83eae9c5",
   "metadata": {},
   "outputs": [
    {
     "name": "stdout",
     "output_type": "stream",
     "text": [
      "Epoch 1/50\n",
      "12/12 [==============================] - 1s 20ms/step - loss: 0.6590 - accuracy: 0.5341 - val_loss: 0.5390 - val_accuracy: 0.7018\n",
      "Epoch 2/50\n",
      "12/12 [==============================] - 0s 9ms/step - loss: 0.5115 - accuracy: 0.8066 - val_loss: 0.4406 - val_accuracy: 0.8333\n",
      "Epoch 3/50\n",
      "12/12 [==============================] - 0s 6ms/step - loss: 0.4128 - accuracy: 0.8901 - val_loss: 0.3668 - val_accuracy: 0.8509\n",
      "Epoch 4/50\n",
      "12/12 [==============================] - 0s 6ms/step - loss: 0.3371 - accuracy: 0.9209 - val_loss: 0.3075 - val_accuracy: 0.8772\n",
      "Epoch 5/50\n",
      "12/12 [==============================] - 0s 6ms/step - loss: 0.2755 - accuracy: 0.9319 - val_loss: 0.2611 - val_accuracy: 0.8947\n",
      "Epoch 6/50\n",
      "12/12 [==============================] - 0s 7ms/step - loss: 0.2258 - accuracy: 0.9385 - val_loss: 0.2267 - val_accuracy: 0.8947\n",
      "Epoch 7/50\n",
      "12/12 [==============================] - 0s 6ms/step - loss: 0.1884 - accuracy: 0.9451 - val_loss: 0.2017 - val_accuracy: 0.8947\n",
      "Epoch 8/50\n",
      "12/12 [==============================] - 0s 6ms/step - loss: 0.1616 - accuracy: 0.9582 - val_loss: 0.1839 - val_accuracy: 0.8947\n",
      "Epoch 9/50\n",
      "12/12 [==============================] - 0s 6ms/step - loss: 0.1404 - accuracy: 0.9626 - val_loss: 0.1688 - val_accuracy: 0.8947\n",
      "Epoch 10/50\n",
      "12/12 [==============================] - 0s 7ms/step - loss: 0.1251 - accuracy: 0.9692 - val_loss: 0.1572 - val_accuracy: 0.8947\n",
      "Epoch 11/50\n",
      "12/12 [==============================] - 0s 6ms/step - loss: 0.1129 - accuracy: 0.9692 - val_loss: 0.1444 - val_accuracy: 0.9123\n",
      "Epoch 12/50\n",
      "12/12 [==============================] - 0s 7ms/step - loss: 0.1023 - accuracy: 0.9736 - val_loss: 0.1354 - val_accuracy: 0.9123\n",
      "Epoch 13/50\n",
      "12/12 [==============================] - 0s 6ms/step - loss: 0.0943 - accuracy: 0.9736 - val_loss: 0.1284 - val_accuracy: 0.9123\n",
      "Epoch 14/50\n",
      "12/12 [==============================] - 0s 7ms/step - loss: 0.0882 - accuracy: 0.9736 - val_loss: 0.1236 - val_accuracy: 0.9298\n",
      "Epoch 15/50\n",
      "12/12 [==============================] - 0s 6ms/step - loss: 0.0833 - accuracy: 0.9736 - val_loss: 0.1185 - val_accuracy: 0.9298\n",
      "Epoch 16/50\n",
      "12/12 [==============================] - 0s 6ms/step - loss: 0.0790 - accuracy: 0.9758 - val_loss: 0.1143 - val_accuracy: 0.9386\n",
      "Epoch 17/50\n",
      "12/12 [==============================] - 0s 6ms/step - loss: 0.0753 - accuracy: 0.9802 - val_loss: 0.1111 - val_accuracy: 0.9474\n",
      "Epoch 18/50\n",
      "12/12 [==============================] - 0s 6ms/step - loss: 0.0715 - accuracy: 0.9824 - val_loss: 0.1081 - val_accuracy: 0.9474\n",
      "Epoch 19/50\n",
      "12/12 [==============================] - 0s 6ms/step - loss: 0.0687 - accuracy: 0.9824 - val_loss: 0.1036 - val_accuracy: 0.9561\n",
      "Epoch 20/50\n",
      "12/12 [==============================] - 0s 6ms/step - loss: 0.0658 - accuracy: 0.9824 - val_loss: 0.1014 - val_accuracy: 0.9561\n",
      "Epoch 21/50\n",
      "12/12 [==============================] - 0s 7ms/step - loss: 0.0632 - accuracy: 0.9824 - val_loss: 0.0988 - val_accuracy: 0.9561\n",
      "Epoch 22/50\n",
      "12/12 [==============================] - 0s 6ms/step - loss: 0.0609 - accuracy: 0.9846 - val_loss: 0.0966 - val_accuracy: 0.9474\n",
      "Epoch 23/50\n",
      "12/12 [==============================] - 0s 6ms/step - loss: 0.0588 - accuracy: 0.9846 - val_loss: 0.0959 - val_accuracy: 0.9561\n",
      "Epoch 24/50\n",
      "12/12 [==============================] - 0s 6ms/step - loss: 0.0569 - accuracy: 0.9846 - val_loss: 0.0945 - val_accuracy: 0.9649\n",
      "Epoch 25/50\n",
      "12/12 [==============================] - 0s 7ms/step - loss: 0.0548 - accuracy: 0.9868 - val_loss: 0.0932 - val_accuracy: 0.9649\n",
      "Epoch 26/50\n",
      "12/12 [==============================] - 0s 7ms/step - loss: 0.0532 - accuracy: 0.9890 - val_loss: 0.0920 - val_accuracy: 0.9649\n",
      "Epoch 27/50\n",
      "12/12 [==============================] - 0s 6ms/step - loss: 0.0515 - accuracy: 0.9890 - val_loss: 0.0916 - val_accuracy: 0.9561\n",
      "Epoch 28/50\n",
      "12/12 [==============================] - 0s 7ms/step - loss: 0.0502 - accuracy: 0.9890 - val_loss: 0.0906 - val_accuracy: 0.9561\n",
      "Epoch 29/50\n",
      "12/12 [==============================] - 0s 6ms/step - loss: 0.0488 - accuracy: 0.9890 - val_loss: 0.0901 - val_accuracy: 0.9649\n",
      "Epoch 30/50\n",
      "12/12 [==============================] - 0s 5ms/step - loss: 0.0476 - accuracy: 0.9890 - val_loss: 0.0898 - val_accuracy: 0.9649\n",
      "Epoch 31/50\n",
      "12/12 [==============================] - 0s 6ms/step - loss: 0.0468 - accuracy: 0.9890 - val_loss: 0.0918 - val_accuracy: 0.9737\n",
      "Epoch 32/50\n",
      "12/12 [==============================] - 0s 6ms/step - loss: 0.0450 - accuracy: 0.9890 - val_loss: 0.0908 - val_accuracy: 0.9737\n",
      "Epoch 33/50\n",
      "12/12 [==============================] - 0s 6ms/step - loss: 0.0437 - accuracy: 0.9912 - val_loss: 0.0904 - val_accuracy: 0.9737\n",
      "Epoch 34/50\n",
      "12/12 [==============================] - 0s 6ms/step - loss: 0.0426 - accuracy: 0.9912 - val_loss: 0.0885 - val_accuracy: 0.9737\n",
      "Epoch 35/50\n",
      "12/12 [==============================] - 0s 7ms/step - loss: 0.0416 - accuracy: 0.9912 - val_loss: 0.0873 - val_accuracy: 0.9737\n",
      "Epoch 36/50\n",
      "12/12 [==============================] - 0s 6ms/step - loss: 0.0406 - accuracy: 0.9912 - val_loss: 0.0869 - val_accuracy: 0.9737\n",
      "Epoch 37/50\n",
      "12/12 [==============================] - 0s 5ms/step - loss: 0.0396 - accuracy: 0.9912 - val_loss: 0.0851 - val_accuracy: 0.9737\n",
      "Epoch 38/50\n",
      "12/12 [==============================] - 0s 6ms/step - loss: 0.0387 - accuracy: 0.9912 - val_loss: 0.0845 - val_accuracy: 0.9737\n",
      "Epoch 39/50\n",
      "12/12 [==============================] - 0s 6ms/step - loss: 0.0380 - accuracy: 0.9912 - val_loss: 0.0849 - val_accuracy: 0.9737\n",
      "Epoch 40/50\n",
      "12/12 [==============================] - 0s 5ms/step - loss: 0.0368 - accuracy: 0.9912 - val_loss: 0.0835 - val_accuracy: 0.9737\n",
      "Epoch 41/50\n",
      "12/12 [==============================] - 0s 6ms/step - loss: 0.0361 - accuracy: 0.9912 - val_loss: 0.0844 - val_accuracy: 0.9737\n",
      "Epoch 42/50\n",
      "12/12 [==============================] - 0s 5ms/step - loss: 0.0350 - accuracy: 0.9912 - val_loss: 0.0838 - val_accuracy: 0.9737\n",
      "Epoch 43/50\n",
      "12/12 [==============================] - 0s 5ms/step - loss: 0.0341 - accuracy: 0.9912 - val_loss: 0.0849 - val_accuracy: 0.9737\n",
      "Epoch 44/50\n",
      "12/12 [==============================] - 0s 5ms/step - loss: 0.0334 - accuracy: 0.9912 - val_loss: 0.0841 - val_accuracy: 0.9737\n",
      "Epoch 45/50\n",
      "12/12 [==============================] - 0s 5ms/step - loss: 0.0325 - accuracy: 0.9912 - val_loss: 0.0854 - val_accuracy: 0.9737\n",
      "Epoch 46/50\n",
      "12/12 [==============================] - 0s 6ms/step - loss: 0.0317 - accuracy: 0.9912 - val_loss: 0.0867 - val_accuracy: 0.9737\n",
      "Epoch 47/50\n",
      "12/12 [==============================] - 0s 5ms/step - loss: 0.0308 - accuracy: 0.9912 - val_loss: 0.0870 - val_accuracy: 0.9737\n",
      "Epoch 48/50\n",
      "12/12 [==============================] - 0s 5ms/step - loss: 0.0304 - accuracy: 0.9912 - val_loss: 0.0869 - val_accuracy: 0.9737\n",
      "Epoch 49/50\n",
      "12/12 [==============================] - 0s 5ms/step - loss: 0.0294 - accuracy: 0.9912 - val_loss: 0.0880 - val_accuracy: 0.9737\n",
      "Epoch 50/50\n",
      "12/12 [==============================] - 0s 6ms/step - loss: 0.0288 - accuracy: 0.9912 - val_loss: 0.0882 - val_accuracy: 0.9737\n"
     ]
    },
    {
     "data": {
      "text/plain": [
       "<keras.src.callbacks.History at 0x1498d8de2f0>"
      ]
     },
     "execution_count": 43,
     "metadata": {},
     "output_type": "execute_result"
    }
   ],
   "source": [
    "model.fit(xtrain,ytrain,epochs=50,batch_size=40,validation_data=(xtest,ytest))\n"
   ]
  },
  {
   "cell_type": "code",
   "execution_count": 44,
   "id": "0997edc0",
   "metadata": {},
   "outputs": [
    {
     "name": "stdout",
     "output_type": "stream",
     "text": [
      "4/4 [==============================] - 0s 2ms/step\n",
      "4/4 [==============================] - 0s 4ms/step - loss: 0.0882 - accuracy: 0.9737\n"
     ]
    }
   ],
   "source": [
    "pred=model.predict(xtest)\n",
    "score=model.evaluate(xtest,ytest)"
   ]
  },
  {
   "cell_type": "code",
   "execution_count": null,
   "id": "40712d06",
   "metadata": {},
   "outputs": [],
   "source": []
  }
 ],
 "metadata": {
  "kernelspec": {
   "display_name": "Python 3 (ipykernel)",
   "language": "python",
   "name": "python3"
  },
  "language_info": {
   "codemirror_mode": {
    "name": "ipython",
    "version": 3
   },
   "file_extension": ".py",
   "mimetype": "text/x-python",
   "name": "python",
   "nbconvert_exporter": "python",
   "pygments_lexer": "ipython3",
   "version": "3.10.9"
  }
 },
 "nbformat": 4,
 "nbformat_minor": 5
}
